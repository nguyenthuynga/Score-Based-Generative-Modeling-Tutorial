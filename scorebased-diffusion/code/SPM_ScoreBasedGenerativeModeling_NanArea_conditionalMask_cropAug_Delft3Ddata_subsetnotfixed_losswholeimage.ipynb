version https://git-lfs.github.com/spec/v1
oid sha256:19e6c72ad373b035ecb0062866725431aecdacd68bbf2e88bd79317781100ec2
size 870136
